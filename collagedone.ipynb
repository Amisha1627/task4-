{
 "cells": [
  {
   "cell_type": "code",
   "execution_count": 1,
   "id": "f8e0ea43",
   "metadata": {},
   "outputs": [],
   "source": [
    "import cv2\n",
    "import numpy"
   ]
  },
  {
   "cell_type": "code",
   "execution_count": 2,
   "id": "364f5374",
   "metadata": {},
   "outputs": [],
   "source": [
    "photo1=cv2.imread(\"dog1.jpg\")"
   ]
  },
  {
   "cell_type": "code",
   "execution_count": 3,
   "id": "d156980b",
   "metadata": {},
   "outputs": [],
   "source": [
    "cv2.imshow(\"DOG\",photo1)\n",
    "cv2.waitKey()\n",
    "cv2.destroyAllWindows()"
   ]
  },
  {
   "cell_type": "code",
   "execution_count": 4,
   "id": "37fc250e",
   "metadata": {},
   "outputs": [],
   "source": [
    "photo2=cv2.imread(\"dog2.jpg\")"
   ]
  },
  {
   "cell_type": "code",
   "execution_count": 5,
   "id": "ad23f4a5",
   "metadata": {},
   "outputs": [],
   "source": [
    "cv2.imshow(\"DOG\",photo2)\n",
    "cv2.waitKey()\n",
    "cv2.destroyAllWindows()"
   ]
  },
  {
   "cell_type": "code",
   "execution_count": 6,
   "id": "65cd6c11",
   "metadata": {},
   "outputs": [],
   "source": [
    "collage=numpy.hstack((photo1,photo2))"
   ]
  },
  {
   "cell_type": "code",
   "execution_count": 7,
   "id": "0385915d",
   "metadata": {},
   "outputs": [],
   "source": [
    "cv2.imshow(\"COLLAGE\",collage)\n",
    "cv2.waitKey()\n",
    "cv2.destroyAllWindows()"
   ]
  },
  {
   "cell_type": "code",
   "execution_count": null,
   "id": "fc3f207f",
   "metadata": {},
   "outputs": [],
   "source": []
  }
 ],
 "metadata": {
  "kernelspec": {
   "display_name": "Python 3",
   "language": "python",
   "name": "python3"
  },
  "language_info": {
   "codemirror_mode": {
    "name": "ipython",
    "version": 3
   },
   "file_extension": ".py",
   "mimetype": "text/x-python",
   "name": "python",
   "nbconvert_exporter": "python",
   "pygments_lexer": "ipython3",
   "version": "3.8.8"
  }
 },
 "nbformat": 4,
 "nbformat_minor": 5
}
