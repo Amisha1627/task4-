{
 "cells": [
  {
   "cell_type": "code",
   "execution_count": 1,
   "id": "9542af26",
   "metadata": {},
   "outputs": [],
   "source": [
    "import cv2"
   ]
  },
  {
   "cell_type": "code",
   "execution_count": 2,
   "id": "07d14a9d",
   "metadata": {},
   "outputs": [],
   "source": [
    "import numpy as np"
   ]
  },
  {
   "cell_type": "code",
   "execution_count": 3,
   "id": "396a929d",
   "metadata": {},
   "outputs": [],
   "source": [
    "img=np.zeros((400,400,3),np.uint8)\n",
    "img[:,:]=(113,74,214)\n",
    "img[0:100,0:100]=(165,165,30)\n",
    "img[100:200,100:200]=(74,195,139)\n",
    "img[100:200,200:300]=(48,91,228)\n",
    "img[200:300,200:300]=(89,67,44)\n",
    "img[300:400,300:400]=(165,165,30)\n",
    "img[200:300,100:200]=(682,565,624)\n",
    "img[300:400,0:100]=(682,565,624)\n",
    "img[0:100,300:400]=(165,165,30)\n",
    "img[300:400,0:100]=(165,165,30)"
   ]
  },
  {
   "cell_type": "code",
   "execution_count": 4,
   "id": "51a97bc5",
   "metadata": {},
   "outputs": [
    {
     "data": {
      "text/plain": [
       "array([[[165, 165,  30],\n",
       "        [165, 165,  30],\n",
       "        [165, 165,  30],\n",
       "        ...,\n",
       "        [165, 165,  30],\n",
       "        [165, 165,  30],\n",
       "        [165, 165,  30]],\n",
       "\n",
       "       [[165, 165,  30],\n",
       "        [165, 165,  30],\n",
       "        [165, 165,  30],\n",
       "        ...,\n",
       "        [165, 165,  30],\n",
       "        [165, 165,  30],\n",
       "        [165, 165,  30]],\n",
       "\n",
       "       [[165, 165,  30],\n",
       "        [165, 165,  30],\n",
       "        [165, 165,  30],\n",
       "        ...,\n",
       "        [165, 165,  30],\n",
       "        [165, 165,  30],\n",
       "        [165, 165,  30]],\n",
       "\n",
       "       ...,\n",
       "\n",
       "       [[165, 165,  30],\n",
       "        [165, 165,  30],\n",
       "        [165, 165,  30],\n",
       "        ...,\n",
       "        [165, 165,  30],\n",
       "        [165, 165,  30],\n",
       "        [165, 165,  30]],\n",
       "\n",
       "       [[165, 165,  30],\n",
       "        [165, 165,  30],\n",
       "        [165, 165,  30],\n",
       "        ...,\n",
       "        [165, 165,  30],\n",
       "        [165, 165,  30],\n",
       "        [165, 165,  30]],\n",
       "\n",
       "       [[165, 165,  30],\n",
       "        [165, 165,  30],\n",
       "        [165, 165,  30],\n",
       "        ...,\n",
       "        [165, 165,  30],\n",
       "        [165, 165,  30],\n",
       "        [165, 165,  30]]], dtype=uint8)"
      ]
     },
     "execution_count": 4,
     "metadata": {},
     "output_type": "execute_result"
    }
   ],
   "source": [
    "cv2.rectangle(img,(100,100),(300,300),[13,44,22],4)"
   ]
  },
  {
   "cell_type": "code",
   "execution_count": 5,
   "id": "5856d44a",
   "metadata": {},
   "outputs": [
    {
     "data": {
      "text/plain": [
       "array([[[165, 165,  30],\n",
       "        [165, 165,  30],\n",
       "        [165, 165,  30],\n",
       "        ...,\n",
       "        [165, 165,  30],\n",
       "        [165, 165,  30],\n",
       "        [165, 165,  30]],\n",
       "\n",
       "       [[165, 165,  30],\n",
       "        [165, 165,  30],\n",
       "        [165, 165,  30],\n",
       "        ...,\n",
       "        [165, 165,  30],\n",
       "        [165, 165,  30],\n",
       "        [165, 165,  30]],\n",
       "\n",
       "       [[165, 165,  30],\n",
       "        [165, 165,  30],\n",
       "        [165, 165,  30],\n",
       "        ...,\n",
       "        [165, 165,  30],\n",
       "        [165, 165,  30],\n",
       "        [165, 165,  30]],\n",
       "\n",
       "       ...,\n",
       "\n",
       "       [[165, 165,  30],\n",
       "        [165, 165,  30],\n",
       "        [165, 165,  30],\n",
       "        ...,\n",
       "        [165, 165,  30],\n",
       "        [165, 165,  30],\n",
       "        [165, 165,  30]],\n",
       "\n",
       "       [[165, 165,  30],\n",
       "        [165, 165,  30],\n",
       "        [165, 165,  30],\n",
       "        ...,\n",
       "        [165, 165,  30],\n",
       "        [165, 165,  30],\n",
       "        [165, 165,  30]],\n",
       "\n",
       "       [[165, 165,  30],\n",
       "        [165, 165,  30],\n",
       "        [165, 165,  30],\n",
       "        ...,\n",
       "        [165, 165,  30],\n",
       "        [165, 165,  30],\n",
       "        [165, 165,  30]]], dtype=uint8)"
      ]
     },
     "execution_count": 5,
     "metadata": {},
     "output_type": "execute_result"
    }
   ],
   "source": [
    "cv2.circle(img,(200,200),141,[37,234,37],3)"
   ]
  },
  {
   "cell_type": "code",
   "execution_count": 6,
   "id": "bb726e96",
   "metadata": {},
   "outputs": [],
   "source": [
    "cv2.imshow(\"myimg\",img)\n",
    "cv2.waitKey()\n",
    "cv2.destroyAllWindows()"
   ]
  },
  {
   "cell_type": "code",
   "execution_count": null,
   "id": "b51223f1",
   "metadata": {},
   "outputs": [],
   "source": []
  },
  {
   "cell_type": "code",
   "execution_count": null,
   "id": "977c5fa9",
   "metadata": {},
   "outputs": [],
   "source": []
  },
  {
   "cell_type": "code",
   "execution_count": null,
   "id": "3a781f27",
   "metadata": {},
   "outputs": [],
   "source": []
  }
 ],
 "metadata": {
  "kernelspec": {
   "display_name": "Python 3",
   "language": "python",
   "name": "python3"
  },
  "language_info": {
   "codemirror_mode": {
    "name": "ipython",
    "version": 3
   },
   "file_extension": ".py",
   "mimetype": "text/x-python",
   "name": "python",
   "nbconvert_exporter": "python",
   "pygments_lexer": "ipython3",
   "version": "3.8.8"
  }
 },
 "nbformat": 4,
 "nbformat_minor": 5
}
