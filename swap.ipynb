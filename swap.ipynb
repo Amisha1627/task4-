{
 "cells": [
  {
   "cell_type": "code",
   "execution_count": 1,
   "id": "7813cf41",
   "metadata": {},
   "outputs": [],
   "source": [
    "import cv2\n",
    "import numpy"
   ]
  },
  {
   "cell_type": "code",
   "execution_count": 2,
   "id": "c020ec33",
   "metadata": {},
   "outputs": [],
   "source": [
    "photo1=cv2.imread(\"dog2.jpg\")\n",
    "photo2=cv2.imread(\"swap1.jpg\")"
   ]
  },
  {
   "cell_type": "code",
   "execution_count": 3,
   "id": "12140c67",
   "metadata": {},
   "outputs": [],
   "source": [
    "cv2.imshow(\"edu\",photo1)\n",
    "cv2.waitKey()\n",
    "cv2.destroyAllWindows()"
   ]
  },
  {
   "cell_type": "code",
   "execution_count": 4,
   "id": "6297f6e5",
   "metadata": {},
   "outputs": [],
   "source": [
    "cv2.imshow(\"edu\",photo2)\n",
    "cv2.waitKey()\n",
    "cv2.destroyAllWindows()"
   ]
  },
  {
   "cell_type": "code",
   "execution_count": 5,
   "id": "9a385fce",
   "metadata": {},
   "outputs": [
    {
     "data": {
      "text/plain": [
       "(396, 600, 3)"
      ]
     },
     "execution_count": 5,
     "metadata": {},
     "output_type": "execute_result"
    }
   ],
   "source": [
    "photo1.shape"
   ]
  },
  {
   "cell_type": "code",
   "execution_count": 6,
   "id": "dc189197",
   "metadata": {},
   "outputs": [
    {
     "data": {
      "text/plain": [
       "(200, 117, 3)"
      ]
     },
     "execution_count": 6,
     "metadata": {},
     "output_type": "execute_result"
    }
   ],
   "source": [
    "photo2.shape"
   ]
  },
  {
   "cell_type": "code",
   "execution_count": 7,
   "id": "2c6c973f",
   "metadata": {},
   "outputs": [],
   "source": [
    "crp1=photo1[150:350,370:487]"
   ]
  },
  {
   "cell_type": "code",
   "execution_count": 8,
   "id": "f430ad49",
   "metadata": {},
   "outputs": [],
   "source": [
    "cv2.imshow(\"edu\",crp1)\n",
    "cv2.waitKey()\n",
    "cv2.destroyAllWindows()"
   ]
  },
  {
   "cell_type": "code",
   "execution_count": 9,
   "id": "2abcb1d2",
   "metadata": {},
   "outputs": [],
   "source": [
    "photo1[150:350,370:487]=photo2"
   ]
  },
  {
   "cell_type": "code",
   "execution_count": 10,
   "id": "167cfc2d",
   "metadata": {},
   "outputs": [],
   "source": [
    "cv2.imshow(\"edu\",photo1)\n",
    "cv2.waitKey()\n",
    "cv2.destroyAllWindows()"
   ]
  },
  {
   "cell_type": "code",
   "execution_count": null,
   "id": "af0ae485",
   "metadata": {},
   "outputs": [],
   "source": []
  }
 ],
 "metadata": {
  "kernelspec": {
   "display_name": "Python 3",
   "language": "python",
   "name": "python3"
  },
  "language_info": {
   "codemirror_mode": {
    "name": "ipython",
    "version": 3
   },
   "file_extension": ".py",
   "mimetype": "text/x-python",
   "name": "python",
   "nbconvert_exporter": "python",
   "pygments_lexer": "ipython3",
   "version": "3.8.8"
  }
 },
 "nbformat": 4,
 "nbformat_minor": 5
}
